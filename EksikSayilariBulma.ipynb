{
 "cells": [
  {
   "cell_type": "markdown",
   "metadata": {},
   "source": [
    "**0'dan 100'e kadar karışık sırada sayıları tutan bir listenizin olduğunu düşünün. Bu liste içerisinde n tane sayı eksiktir. n değerini ve eksik sayıları bulunuz.**"
   ]
  },
  {
   "cell_type": "code",
   "execution_count": 5,
   "metadata": {},
   "outputs": [
    {
     "name": "stdout",
     "output_type": "stream",
     "text": [
      "[8, 44, 97, 17, 91, 61, 11, 18, 31, 6, 35, 81, 29, 52, 30, 60, 89, 88, 32, 75, 43, 25, 79, 82, 78, 48, 56, 53, 85, 71, 100, 93, 39, 46, 76, 90, 58, 47, 5, 4, 69, 34, 12, 59, 67, 40, 9, 74, 95, 64, 42, 99, 3, 72, 65, 26, 83, 62, 27, 38, 1, 94, 20, 50, 37, 13, 55, 24, 98, 96, 7, 51, 77, 21, 19, 45, 84, 14, 22, 57, 70, 66, 10, 68, 80, 23, 0, 73, 54, 15, 2, 87, 28, 41, 86, 63, 16, 92, 49, 33, 36]\n",
      "\n",
      "\n",
      "[44, 17, 61, 18, 6, 81, 52, 60, 88, 75, 43, 25, 79, 82, 78, 48, 56, 53, 85, 71, 100, 93, 39, 46, 76, 90, 58, 47, 5, 4, 69, 34, 12, 59, 67, 40, 9, 74, 95, 64, 42, 99, 3, 72, 65, 26, 83, 62, 27, 38, 1, 94, 20, 50, 37, 13, 55, 24, 98, 96, 7, 51, 77, 21, 19, 45, 84, 14, 22, 57, 70, 66, 10, 68, 80, 23, 0, 73, 54, 15, 2, 87, 28, 41, 86, 63, 16, 92, 49, 33, 36]\n",
      "\n",
      "\n",
      "8 adet sayi eksiktir ve eksik sayilar şunlardır: [8, 11, 29, 30, 31, 32, 35, 89]\n"
     ]
    }
   ],
   "source": [
    "import random\n",
    "\n",
    "sayilar = [i for i in range(0, 101)]\n",
    "random.shuffle(sayilar)\n",
    "print(sayilar)\n",
    "print(\"\\n\")\n",
    "\n",
    "\n",
    "eksik_liste = sayilar\n",
    "for i in range(0,10):\n",
    "    eksik_liste.pop(i)\n",
    "    \n",
    "\n",
    "print(eksik_liste)\n",
    "print(\"\\n\")\n",
    "\n",
    "\n",
    "count = 0\n",
    "eksik_sayilar = []\n",
    "\n",
    "for i in range(len(sayilar)):\n",
    "    if i not in eksik_liste:\n",
    "        eksik_sayilar.append(i)\n",
    "        count = count + 1\n",
    "        \n",
    "print(f\"{count} adet sayi eksiktir ve eksik sayilar şunlardır:\", eksik_sayilar)\n",
    "\n"
   ]
  }
 ],
 "metadata": {
  "kernelspec": {
   "display_name": "Python 3.10.7 64-bit",
   "language": "python",
   "name": "python3"
  },
  "language_info": {
   "codemirror_mode": {
    "name": "ipython",
    "version": 3
   },
   "file_extension": ".py",
   "mimetype": "text/x-python",
   "name": "python",
   "nbconvert_exporter": "python",
   "pygments_lexer": "ipython3",
   "version": "3.10.7"
  },
  "orig_nbformat": 4,
  "vscode": {
   "interpreter": {
    "hash": "aee8b7b246df8f9039afb4144a1f6fd8d2ca17a180786b69acc140d282b71a49"
   }
  }
 },
 "nbformat": 4,
 "nbformat_minor": 2
}
