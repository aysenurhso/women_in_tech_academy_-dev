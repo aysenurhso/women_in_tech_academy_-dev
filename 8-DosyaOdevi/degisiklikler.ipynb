{
 "cells": [
  {
   "cell_type": "markdown",
   "metadata": {},
   "source": [
    "**Düzensiz ve duplicate veriden oluşan \"all_data.txt\" dosyası üzerinde yapılacak olan işlemler;**\n",
    "\n",
    "* Bütün text küçük harfe çevrilecek\n",
    "* Türkçe karakterler replace edilecek\n",
    "(ş -> s, ı -> i, ö -> o, ğ -> g, ç -> c, ü -> u)\n",
    "* Noktalama işaretleri kaldırılacak\n",
    "* Bir satır tamamen sayılardan oluşuyorsa satırı yeni dosyaya ekleme\n",
    "* Her satırda bir cümle olacak şekilde satırları düzenleyin\n",
    "* duplicate veri barındırmayacak"
   ]
  },
  {
   "cell_type": "code",
   "execution_count": 1,
   "metadata": {},
   "outputs": [],
   "source": [
    "file = open(\"all_data.txt\", \"r\")\n",
    "lines = file.readlines()"
   ]
  },
  {
   "cell_type": "markdown",
   "metadata": {},
   "source": [
    "**Bütün harflerin küçük hale getirilmesi ve türkçe karakterlerin replace edilmesi**"
   ]
  },
  {
   "cell_type": "code",
   "execution_count": 14,
   "metadata": {},
   "outputs": [],
   "source": [
    "with open(\"all_data.txt\", 'r+') as data, open(\"new_data.txt\", \"w\") as new_data:\n",
    "      lines_data = data.readlines()\n",
    "      for line in lines_data:  \n",
    "         line = line.lower()\n",
    "         line = line.replace('ç', 'c')\n",
    "         line = line.replace('ğ', 'g')\n",
    "         line = line.replace('ı', 'i')\n",
    "         line = line.replace('ö', 'o')\n",
    "         line = line.replace('ş', 's')\n",
    "         line = line.replace('ü', 'u')\n",
    "         new_data.write(line)"
   ]
  },
  {
   "cell_type": "markdown",
   "metadata": {},
   "source": [
    "**Sadece sayılardan oluşan satırların silinmesi**"
   ]
  },
  {
   "cell_type": "code",
   "execution_count": 34,
   "metadata": {},
   "outputs": [],
   "source": [
    "with open('new_data.txt') as data, open('new_data1.txt', 'w') as new_data1:\n",
    "  for line in data:\n",
    "    if not any(i.isdigit() for i in line):\n",
    "      new_data1.write(line)"
   ]
  },
  {
   "cell_type": "markdown",
   "metadata": {},
   "source": [
    "**Duplicate verilerin silinmesi**"
   ]
  },
  {
   "cell_type": "code",
   "execution_count": 35,
   "metadata": {},
   "outputs": [],
   "source": [
    "uniqlines = set(open(\"new_data1.txt\").readlines())\n",
    "bar = open(\"new_data1.txt\", 'w').writelines(uniqlines)\n",
    "\n",
    "bar"
   ]
  },
  {
   "cell_type": "markdown",
   "metadata": {},
   "source": [
    "**Her satırda bir cümle olacak şekilde verinin düzenlenmesi**"
   ]
  },
  {
   "cell_type": "code",
   "execution_count": 39,
   "metadata": {},
   "outputs": [],
   "source": [
    "with open(\"new_data1.txt\", 'r+') as data, open(\"new_data2.txt\", \"w\") as new_data2:\n",
    "      lines_data = data.readlines()\n",
    "      for line in lines_data:  \n",
    "         line = line.replace('.', '\\n')\n",
    "         line = line.replace('?', '\\n')\n",
    "         line = line.replace('!', '\\n')\n",
    "         line = line.replace('...', '\\n')\n",
    "         new_data2.write(line)\n"
   ]
  },
  {
   "cell_type": "markdown",
   "metadata": {},
   "source": [
    "**Noktalama işaretlerinin kaldırılması**"
   ]
  },
  {
   "cell_type": "code",
   "execution_count": 50,
   "metadata": {},
   "outputs": [],
   "source": [
    "import re\n",
    "with open(\"new_data2.txt\", 'r+') as data, open(\"new_data3.txt\", \"r+\") as new_data3:\n",
    "    lines_data = data.readlines()\n",
    "    for line in lines_data:\n",
    "        line = re.sub(r'[^\\w\\s]', '', line)\n",
    "        new_data3.write(line)"
   ]
  }
 ],
 "metadata": {
  "kernelspec": {
   "display_name": "Python 3.10.7 64-bit",
   "language": "python",
   "name": "python3"
  },
  "language_info": {
   "codemirror_mode": {
    "name": "ipython",
    "version": 3
   },
   "file_extension": ".py",
   "mimetype": "text/x-python",
   "name": "python",
   "nbconvert_exporter": "python",
   "pygments_lexer": "ipython3",
   "version": "3.10.7"
  },
  "orig_nbformat": 4,
  "vscode": {
   "interpreter": {
    "hash": "aee8b7b246df8f9039afb4144a1f6fd8d2ca17a180786b69acc140d282b71a49"
   }
  }
 },
 "nbformat": 4,
 "nbformat_minor": 2
}
