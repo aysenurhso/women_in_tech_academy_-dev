{
 "cells": [
  {
   "cell_type": "markdown",
   "metadata": {},
   "source": [
    "**Bir liste üzerinde sıralama algoritmasını kullanarak listeyi sıralayınız.**"
   ]
  },
  {
   "cell_type": "code",
   "execution_count": 1,
   "metadata": {},
   "outputs": [
    {
     "data": {
      "text/plain": [
       "[4, 5, 7, 12, 28, 34, 56, 63, 99]"
      ]
     },
     "execution_count": 1,
     "metadata": {},
     "output_type": "execute_result"
    }
   ],
   "source": [
    "mix_list = [12, 5, 7, 56, 63, 4, 99, 28, 34]\n",
    "size = len(mix_list)\n",
    "\n",
    "def bublesort(liste, boyut):\n",
    "    for i in range(0,boyut):\n",
    "        for j in range(1, boyut):\n",
    "            if liste[j-1] > liste[j]:\n",
    "                temp = liste[j]\n",
    "                liste[j] = liste[j-1]\n",
    "                liste[j-1] = temp\n",
    "    return(liste)\n",
    "\n",
    "bublesort(mix_list,size)\n",
    "\n",
    "\n"
   ]
  }
 ],
 "metadata": {
  "kernelspec": {
   "display_name": "Python 3.10.7 64-bit",
   "language": "python",
   "name": "python3"
  },
  "language_info": {
   "codemirror_mode": {
    "name": "ipython",
    "version": 3
   },
   "file_extension": ".py",
   "mimetype": "text/x-python",
   "name": "python",
   "nbconvert_exporter": "python",
   "pygments_lexer": "ipython3",
   "version": "3.10.7"
  },
  "orig_nbformat": 4,
  "vscode": {
   "interpreter": {
    "hash": "aee8b7b246df8f9039afb4144a1f6fd8d2ca17a180786b69acc140d282b71a49"
   }
  }
 },
 "nbformat": 4,
 "nbformat_minor": 2
}
