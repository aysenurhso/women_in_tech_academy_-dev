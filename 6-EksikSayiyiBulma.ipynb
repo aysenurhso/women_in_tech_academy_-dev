{
 "cells": [
  {
   "cell_type": "markdown",
   "metadata": {},
   "source": [
    "**0'dan 100'e kadar karışık sırada sayıları tutan bir listenizin olduğunu düşünün. Bu liste içerisinde rastgele 1 sayı eksiltip eksik sayıyı bulunuz.**"
   ]
  },
  {
   "cell_type": "code",
   "execution_count": 7,
   "metadata": {},
   "outputs": [
    {
     "name": "stdout",
     "output_type": "stream",
     "text": [
      "[39, 9, 0, 62, 42, 84, 7, 52, 86, 26, 99, 92, 58, 41, 65, 82, 66, 91, 37, 31, 97, 6, 78, 51, 29, 49, 4, 14, 12, 77, 88, 79, 20, 30, 90, 13, 22, 63, 1, 19, 81, 72, 11, 18, 80, 87, 85, 21, 5, 53, 76, 96, 89, 73, 17, 3, 44, 48, 50, 70, 57, 94, 59, 67, 25, 10, 45, 24, 40, 64, 8, 47, 36, 43, 55, 61, 71, 93, 33, 32, 23, 74, 95, 15, 54, 2, 46, 98, 68, 38, 35, 75, 69, 60, 34, 16, 83, 56, 27, 28]\n",
      "listedeki sayı adedi: 100\n",
      "\n",
      "\n",
      "[39, 9, 0, 62, 42, 84, 7, 52, 86, 26, 99, 92, 58, 41, 65, 82, 66, 91, 37, 31, 97, 6, 78, 51, 29, 49, 4, 14, 12, 77, 88, 79, 20, 30, 90, 13, 22, 63, 1, 19, 81, 72, 11, 18, 80, 87, 85, 21, 5, 53, 76, 96, 89, 73, 17, 3, 44, 48, 50, 70, 57, 94, 59, 67, 25, 10, 45, 24, 40, 64, 8, 47, 36, 43, 55, 61, 71, 93, 33, 32, 23, 74, 95, 15, 54, 2, 46, 98, 68, 38, 35, 75, 69, 60, 34, 16, 83, 56, 27]\n",
      "listedeki sayı adedi: 99\n",
      "\n",
      "\n",
      "listede eksik olan sayi: 28\n"
     ]
    }
   ],
   "source": [
    "import random\n",
    "\n",
    "sayilar = [i for i in range(0, 100)]\n",
    "random.shuffle(sayilar)\n",
    "print(sayilar)\n",
    "print(\"listedeki sayı adedi:\", len(sayilar))\n",
    "print(\"\\n\")\n",
    "\n",
    "eksik_liste = sayilar\n",
    "eksik_liste.pop()\n",
    "\n",
    "print(eksik_liste)\n",
    "print(\"listedeki sayı adedi:\", len(eksik_liste))\n",
    "print(\"\\n\")\n",
    "\n",
    "for i in range(0,101):\n",
    "    if i not in eksik_liste:\n",
    "        eksik_sayi = i\n",
    "        break\n",
    "    \n",
    "print(\"listede eksik olan sayi:\", eksik_sayi)\n"
   ]
  }
 ],
 "metadata": {
  "kernelspec": {
   "display_name": "Python 3.10.7 64-bit",
   "language": "python",
   "name": "python3"
  },
  "language_info": {
   "codemirror_mode": {
    "name": "ipython",
    "version": 3
   },
   "file_extension": ".py",
   "mimetype": "text/x-python",
   "name": "python",
   "nbconvert_exporter": "python",
   "pygments_lexer": "ipython3",
   "version": "3.10.7"
  },
  "orig_nbformat": 4,
  "vscode": {
   "interpreter": {
    "hash": "aee8b7b246df8f9039afb4144a1f6fd8d2ca17a180786b69acc140d282b71a49"
   }
  }
 },
 "nbformat": 4,
 "nbformat_minor": 2
}
