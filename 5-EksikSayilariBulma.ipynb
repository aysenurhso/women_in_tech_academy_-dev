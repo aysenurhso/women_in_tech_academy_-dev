{
 "cells": [
  {
   "cell_type": "markdown",
   "metadata": {},
   "source": [
    "**0'dan 100'e kadar karışık sırada sayıları tutan bir listenizin olduğunu düşünün. Bu liste içerisinde rastgele sayı eksiltip eksik sayıları bulunuz.**"
   ]
  },
  {
   "cell_type": "code",
   "execution_count": 7,
   "metadata": {},
   "outputs": [
    {
     "name": "stdout",
     "output_type": "stream",
     "text": [
      "[84, 54, 13, 60, 93, 66, 5, 27, 22, 64, 15, 28, 78, 1, 98, 20, 30, 25, 69, 52, 55, 16, 0, 47, 61, 36, 10, 43, 21, 17, 97, 67, 99, 26, 48, 87, 35, 7, 46, 85, 76, 29, 31, 81, 50, 18, 41, 38, 83, 92, 3, 80, 100, 9, 95, 63, 77, 23, 57, 65, 49, 34, 33, 53, 74, 75, 79, 4, 96, 14, 82, 19, 42, 88, 45, 89, 39, 37, 56, 24, 71, 86, 2, 32, 11, 12, 6, 73, 59, 8, 72, 51, 40, 70, 90, 94, 68, 44, 91, 62, 58]\n",
      "\n",
      "\n",
      "[54, 60, 66, 27, 64, 28, 1, 20, 25, 52, 55, 16, 0, 47, 61, 36, 10, 43, 21, 17, 97, 67, 99, 26, 48, 87, 35, 7, 46, 85, 76, 29, 31, 81, 50, 18, 41, 38, 83, 92, 3, 80, 100, 9, 95, 63, 77, 23, 57, 65, 49, 34, 33, 53, 74, 75, 79, 4, 96, 14, 82, 19, 42, 88, 45, 89, 39, 37, 56, 24, 71, 86, 2, 32, 11, 12, 6, 73, 59, 8, 72, 51, 40, 70, 90, 94, 68, 44, 91, 62, 58]\n",
      "\n",
      "\n",
      "10 adet sayi eksiktir ve eksik sayilar şunlardır: [5, 13, 15, 22, 30, 69, 78, 84, 93, 98]\n"
     ]
    }
   ],
   "source": [
    "import random\n",
    "\n",
    "sayilar = [i for i in range(0, 101)]\n",
    "random.shuffle(sayilar)\n",
    "print(sayilar)\n",
    "print(\"\\n\")\n",
    "\n",
    "\n",
    "eksik_liste = sayilar\n",
    "for i in range(0,10):\n",
    "    eksik_liste.pop(i)\n",
    "    \n",
    "\n",
    "print(eksik_liste)\n",
    "print(\"\\n\")\n",
    "\n",
    "\n",
    "count = 0\n",
    "eksik_sayilar = []\n",
    "\n",
    "for i in range(0,101):\n",
    "    if i not in eksik_liste:\n",
    "        eksik_sayilar.append(i)\n",
    "        count = count + 1\n",
    "        \n",
    "print(f\"{count} adet sayi eksiktir ve eksik sayilar şunlardır:\", eksik_sayilar)\n",
    "\n"
   ]
  }
 ],
 "metadata": {
  "kernelspec": {
   "display_name": "Python 3.10.7 64-bit",
   "language": "python",
   "name": "python3"
  },
  "language_info": {
   "codemirror_mode": {
    "name": "ipython",
    "version": 3
   },
   "file_extension": ".py",
   "mimetype": "text/x-python",
   "name": "python",
   "nbconvert_exporter": "python",
   "pygments_lexer": "ipython3",
   "version": "3.10.7"
  },
  "orig_nbformat": 4,
  "vscode": {
   "interpreter": {
    "hash": "aee8b7b246df8f9039afb4144a1f6fd8d2ca17a180786b69acc140d282b71a49"
   }
  }
 },
 "nbformat": 4,
 "nbformat_minor": 2
}
